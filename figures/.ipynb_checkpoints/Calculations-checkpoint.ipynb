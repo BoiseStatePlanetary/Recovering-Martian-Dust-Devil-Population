{
 "cells": [
  {
   "cell_type": "code",
   "execution_count": 4,
   "metadata": {},
   "outputs": [],
   "source": [
    "%matplotlib inline\n",
    "\n",
    "import matplotlib.pyplot as plt\n",
    "import numpy as np\n",
    "\n",
    "aspect_ratio = 16./9\n",
    "BoiseState_blue = '#0033A0'\n",
    "BoiseState_orange = '#D64309'"
   ]
  },
  {
   "cell_type": "code",
   "execution_count": null,
   "metadata": {},
   "outputs": [],
   "source": [
    "fig = plt.figure(figsize=(6*aspect_ratio, 6))\n",
    "ax = fig.add_subplot(111)\n",
    "\n",
    "Neakrase_exponent = 3.4\n",
    "Neakrase_coefficient = 5.79e-8\n",
    "Delta_Ps = 10.**(np.linspace(-1, 2))\n",
    "Qs = Neakrase_coefficient*Delta_Ps**Neakrase_exponent\n",
    "\n",
    "ax.loglog(Delta_Ps, Qs, lw=6, color=BoiseState_blue)\n",
    "\n",
    "ax.grid(True)\n",
    "ax.tick_params(labelsize=24)\n",
    "ax.set_xlabel(\"$\\\\Delta P\\, \\\\left({\\\\rm Pa}\\\\right)$\", fontsize=36)\n",
    "ax.set_ylabel(\"$Q\\, \\\\left({\\\\rm kg\\, m^{-2}\\, s^{-1}}\\\\right)$\", fontsize=36)\n",
    "\n",
    "fig.savefig(\"Q_vs_Delta-P.png\", dpi=500, bbox_inches=\"tight\")"
   ]
  },
  {
   "cell_type": "code",
   "execution_count": null,
   "metadata": {},
   "outputs": [],
   "source": []
  }
 ],
 "metadata": {
  "kernelspec": {
   "display_name": "Python 3",
   "language": "python",
   "name": "python3"
  },
  "language_info": {
   "codemirror_mode": {
    "name": "ipython",
    "version": 3
   },
   "file_extension": ".py",
   "mimetype": "text/x-python",
   "name": "python",
   "nbconvert_exporter": "python",
   "pygments_lexer": "ipython3",
   "version": "3.7.3"
  }
 },
 "nbformat": 4,
 "nbformat_minor": 2
}
