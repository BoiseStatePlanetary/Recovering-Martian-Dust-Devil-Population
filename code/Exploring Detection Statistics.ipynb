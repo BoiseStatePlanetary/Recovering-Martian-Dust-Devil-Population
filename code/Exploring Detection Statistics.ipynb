{
 "cells": [
  {
   "cell_type": "code",
   "execution_count": 57,
   "metadata": {},
   "outputs": [],
   "source": [
    "%matplotlib inline\n",
    "import numpy as np\n",
    "import matplotlib.pyplot as plt\n",
    "from scipy.special import erfc, erf\n",
    "from statsmodels.robust import mad\n",
    "from numpy.random import normal\n",
    "\n",
    "from utils import *"
   ]
  },
  {
   "cell_type": "code",
   "execution_count": null,
   "metadata": {},
   "outputs": [
    {
     "name": "stderr",
     "output_type": "stream",
     "text": [
      "/Users/brian/anaconda3/lib/python3.7/site-packages/ipykernel_launcher.py:5: DeprecationWarning: object of type <class 'float'> cannot be safely interpreted as an integer.\n",
      "  \"\"\"\n"
     ]
    }
   ],
   "source": [
    "# Check that the F*P returns Gaussian stats for white noise\n",
    "num_points = 1e9\n",
    "min_time = 0.\n",
    "max_time = 1.\n",
    "time = np.linspace(min_time, max_time, num_points)\n",
    "delta_t = (max_time - min_time)/(num_points - 1.)\n",
    "\n",
    "fwhm = delta_t\n",
    "depth = 1./np.pi\n",
    "\n",
    "data = normal(size=len(time))\n",
    "\n",
    "convolution = apply_lorentzian_matched_filter(time, data, st, fwhm, depth, delta_t=delta_t)\n",
    "med = np.nanmedian(convolution)\n",
    "md = mad(convolution)\n",
    "\n",
    "scaled_convolution = (convolution - med)/md\n",
    "\n",
    "# plt.plot(time, np.abs(scaled_convolution), marker='.', ls='')\n",
    "hst, bin_edges = np.histogram(np.abs(scaled_convolution))\n",
    "bins = 0.5*(bin_edges[1:] + bin_edges[0:-1])\n",
    "plt.plot(bins, 1. - hst/num_points)\n",
    "plt.plot(bins, erf(bins))\n",
    "\n",
    "print(bins[-2:], hst[-2:]/num_points)"
   ]
  }
 ],
 "metadata": {
  "kernelspec": {
   "display_name": "Python 3",
   "language": "python",
   "name": "python3"
  },
  "language_info": {
   "codemirror_mode": {
    "name": "ipython",
    "version": 3
   },
   "file_extension": ".py",
   "mimetype": "text/x-python",
   "name": "python",
   "nbconvert_exporter": "python",
   "pygments_lexer": "ipython3",
   "version": "3.7.3"
  }
 },
 "nbformat": 4,
 "nbformat_minor": 2
}
