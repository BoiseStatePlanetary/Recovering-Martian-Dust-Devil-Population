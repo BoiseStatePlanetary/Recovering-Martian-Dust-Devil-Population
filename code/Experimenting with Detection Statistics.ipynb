{
 "cells": [
  {
   "cell_type": "code",
   "execution_count": 13,
   "id": "dc89255d",
   "metadata": {},
   "outputs": [],
   "source": [
    "%matplotlib inline\n",
    "\n",
    "import numpy as np\n",
    "from numpy.random import normal\n",
    "import matplotlib.pyplot as plt\n",
    "\n",
    "from scipy.special import erf, erfc\n",
    "from astropy.stats import median_absolute_deviation as mad"
   ]
  },
  {
   "cell_type": "code",
   "execution_count": 63,
   "id": "843b69bd",
   "metadata": {},
   "outputs": [
    {
     "name": "stdout",
     "output_type": "stream",
     "text": [
      "0.0027065298387201437\n",
      "5.733009127920804e-07\n",
      "0.9999999999974404 0.9999994266968563\n"
     ]
    },
    {
     "data": {
      "image/png": "[encoded data removed]",
      "text/plain": [
       "<Figure size 432x288 with 1 Axes>"
      ]
     },
     "metadata": {
      "needs_background": "light"
     },
     "output_type": "display_data"
    }
   ],
   "source": [
    "num_tries = 100000\n",
    "delta_P_obs = 1. # Pa\n",
    "st = 1. # Pa\n",
    "\n",
    "rand_FP = normal(scale=st, size=num_tries)\n",
    "# rand_FP = (rand_FP - np.mean(rand_FP))/np.std(rand_FP)\n",
    "\n",
    "hst, bin_edges = np.histogram(rand_FP, bins=100)\n",
    "bins = 0.5*(bin_edges[1:] + bin_edges[0:-1])\n",
    "hst = hst/num_tries\n",
    "cum_sum = np.cumsum(hst)\n",
    "plt.plot(bins, cum_sum)\n",
    "plt.plot(bins, 0.5*(1 + erf(bins/np.sqrt(2.))))\n",
    "\n",
    "print((erf(5./np.sqrt(2.)) - erf(3./np.sqrt(2.)))/erf(3./np.sqrt(2.)))\n",
    "print((erf(7./np.sqrt(2.)) - erf(5./np.sqrt(2.)))/erf(5./np.sqrt(2.)))\n",
    "print(erf(7./np.sqrt(2.)), erf(5./np.sqrt(2.)))"
   ]
  }
 ],
 "metadata": {
  "kernelspec": {
   "display_name": "Python 3",
   "language": "python",
   "name": "python3"
  },
  "language_info": {
   "codemirror_mode": {
    "name": "ipython",
    "version": 3
   },
   "file_extension": ".py",
   "mimetype": "text/x-python",
   "name": "python",
   "nbconvert_exporter": "python",
   "pygments_lexer": "ipython3",
   "version": "3.8.8"
  }
 },
 "nbformat": 4,
 "nbformat_minor": 5
}
