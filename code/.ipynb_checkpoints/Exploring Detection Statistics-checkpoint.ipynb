{
 "cells": [
  {
   "cell_type": "code",
   "execution_count": 27,
   "metadata": {},
   "outputs": [],
   "source": [
    "%matplotlib inline\n",
    "import numpy as np\n",
    "import matplotlib.pyplot as plt\n",
    "from scipy.special import erf\n",
    "from statsmodels.robust import mad\n",
    "from numpy.random import normal\n",
    "\n",
    "from utils import *"
   ]
  },
  {
   "cell_type": "code",
   "execution_count": 51,
   "metadata": {},
   "outputs": [
    {
     "data": {
      "text/plain": [
       "[<matplotlib.lines.Line2D at 0x1c1539a6a0>]"
      ]
     },
     "execution_count": 51,
     "metadata": {},
     "output_type": "execute_result"
    },
    {
     "data": {
      "image/png": "[encoded data removed]",
      "text/plain": [
       "<Figure size 432x288 with 1 Axes>"
      ]
     },
     "metadata": {
      "needs_background": "light"
     },
     "output_type": "display_data"
    }
   ],
   "source": [
    "# Check that the F*P returns Gaussian stats for white noise\n",
    "num_points = 100001\n",
    "min_time = 0.\n",
    "max_time = 1.\n",
    "time = np.linspace(min_time, max_time, num_points)\n",
    "delta_t = (max_time - min_time)/(num_points - 1.)\n",
    "\n",
    "fwhm = delta_t\n",
    "depth = 1./np.pi\n",
    "\n",
    "st = 10.\n",
    "data = normal(size=len(time), scale=st)\n",
    "\n",
    "convolution = apply_lorentzian_matched_filter(time, data, st, fwhm, depth, delta_t=delta_t)\n",
    "med = np.nanmedian(convolution)\n",
    "md = mad(convolution)\n",
    "\n",
    "scaled_convolution = (convolution - med)/md\n",
    "\n",
    "# plt.plot(time, np.abs(scaled_convolution), marker='.', ls='')\n",
    "hst, bin_edges = np.histogram(np.abs(scaled_convolution))\n",
    "bins = 0.5*(bin_edges[1:] + bin_edges[0:-1])\n",
    "plt.plot(bins, (1 - erf(bins))*num_points - hst)\n",
    "# plt.ylim([-1000, 0])"
   ]
  }
 ],
 "metadata": {
  "kernelspec": {
   "display_name": "Python 3",
   "language": "python",
   "name": "python3"
  },
  "language_info": {
   "codemirror_mode": {
    "name": "ipython",
    "version": 3
   },
   "file_extension": ".py",
   "mimetype": "text/x-python",
   "name": "python",
   "nbconvert_exporter": "python",
   "pygments_lexer": "ipython3",
   "version": "3.7.3"
  }
 },
 "nbformat": 4,
 "nbformat_minor": 2
}
