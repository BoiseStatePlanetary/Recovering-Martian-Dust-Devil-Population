{
 "cells": [
  {
   "cell_type": "markdown",
   "id": "0aa3d869",
   "metadata": {},
   "source": [
    "The Richardson number ${\\rm Ri}$ is given by\n",
    "$$\n",
    "{\\rm Ri} = \\frac{\\left( {\\rm buoyancy\\ acceleration } \\right)}{\\left( {\\rm shear\\ acceleration } \\right)} = \\frac{g \\Delta T/T }{U^2/L}.\n",
    "$$"
   ]
  },
  {
   "cell_type": "markdown",
   "id": "7218ad45",
   "metadata": {},
   "source": [
    "For both Mars and Earth $\\Delta T ~ {\\rm few}\\, K$ and $L$ may be the same. For dust devil formation conditions on Mars $T \\sim 240\\,{\\rm K}$; for the Earth, $T \\sim 320\\,{\\rm K}$, so\n",
    "$$\n",
    "\\frac{{\\rm Ri}_{\\rm Mars}}{{\\rm Ri}_{\\rm Earth}} \\sim \\left( \\frac{3.73\\,{\\rm m\\ s^{-2}}}{10\\,{\\rm m\\ s^{-2}}} \\right) \\left( \\frac{320\\,{\\rm K}}{240\\,{\\rm K}} \\right) \\left( \\frac{U_{\\rm Earth}}{U_{\\rm Mars}} \\right)^2 \\sim 0.5 \\left( \\frac{U_{\\rm Earth}}{U_{\\rm Mars}} \\right)^2 ,\n",
    "$$\n",
    "where $U$ is the threshold ambient wind velocity."
   ]
  },
  {
   "cell_type": "markdown",
   "id": "662d325b",
   "metadata": {},
   "source": [
    "Assuming the threshold Richardson number for dust devil formation on both Earth and Mars is the same, then the threshold ambient wind speed above which dust devil formation would suppressed is\n",
    "$$\n",
    "U_{\\rm Mars} \\sim \\sqrt{2} U_{\\rm Earth}.\n",
    "$$"
   ]
  },
  {
   "cell_type": "markdown",
   "id": "5395db30",
   "metadata": {},
   "source": [
    "Rakfin et al.~(2016 - https://ui.adsabs.harvard.edu/abs/2016SSRv..203..183R/abstract) suggest $U_{\\rm Earth} \\approx 8\\,{\\rm m\\ s^{-1}}$, so\n",
    "$$\n",
    "U_{\\rm Mars} \\sim 11\\,{\\rm m\\ s^{-1}}.\n",
    "$$\n",
    "\n",
    "The figure below is based on Jackson et al. (2021 - https://iopscience.iop.org/article/10.3847/PSJ/ac260d), Figure 13. Panel (a) shows the histogram of average ambient wind speeds seen during vortex encounters by the histogram of average ambient wind speeds when there were NO encounters.\n",
    "\n",
    "Panel (b) shows the ratio of these histograms. Since the encounter would be expected to be proportional to the ambient wind speed (i.e., higher wind speeds will advect dust devils past InSight more frequently), I've also divided this histogram ratio by the ambient wind speed.\n",
    "\n",
    "The resulting histogram ratio is pretty noisy, but it does seem to fall off above $11\\,{\\rm m\\ s^{-1}}$, consistent with the notes here."
   ]
  },
  {
   "cell_type": "markdown",
   "id": "d9758fe1",
   "metadata": {},
   "source": [
    "![U_vs_DeltaP_Histograms_Ratioed_Divided_By_Velocity](U_vs_DeltaP_Histograms_Ratioed_Divided_By_Velocity.png)"
   ]
  }
 ],
 "metadata": {
  "kernelspec": {
   "display_name": "Python 3 (ipykernel)",
   "language": "python",
   "name": "python3"
  },
  "language_info": {
   "codemirror_mode": {
    "name": "ipython",
    "version": 3
   },
   "file_extension": ".py",
   "mimetype": "text/x-python",
   "name": "python",
   "nbconvert_exporter": "python",
   "pygments_lexer": "ipython3",
   "version": "3.9.18"
  }
 },
 "nbformat": 4,
 "nbformat_minor": 5
}
